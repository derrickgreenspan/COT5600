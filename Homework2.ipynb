{
  "nbformat": 4,
  "nbformat_minor": 0,
  "metadata": {
    "colab": {
      "name": "Copy of Homework2.ipynb",
      "provenance": [],
      "collapsed_sections": [],
      "authorship_tag": "ABX9TyM08ca/5ZXz0Xt+8R5HRHHW",
      "include_colab_link": true
    },
    "kernelspec": {
      "name": "python3",
      "display_name": "Python 3"
    }
  },
  "cells": [
    {
      "cell_type": "markdown",
      "metadata": {
        "id": "view-in-github",
        "colab_type": "text"
      },
      "source": [
        "<a href=\"https://colab.research.google.com/github/derrickgreenspan/COT5600/blob/master/Homework2.ipynb\" target=\"_parent\"><img src=\"https://colab.research.google.com/assets/colab-badge.svg\" alt=\"Open In Colab\"/></a>"
      ]
    },
    {
      "cell_type": "markdown",
      "metadata": {
        "id": "Ewh_TpTpvfq5",
        "colab_type": "text"
      },
      "source": [
        "**Problem 1**\n",
        "\n",
        "Implement a simulation of the Hadamard test for any qubit state |psi> and any single qubit unitary U using numpy. Observe that you have to compute how the state of the quantum register changes. It is not enough to just code up the formula for the probabilities that we derived in class.\n",
        "\n",
        "Recall that you can realize the controlled-U gate as follows: $|0><0| \\otimes I + |1><1| \\otimes U$. Use the numpy command np.kron for the tensor product.\n",
        "\n",
        "For $|\\psi>$ use the state $|0>$ and for the unitary U use the orthogonal matrix that describes the rotation by angle $2\\pi \\theta$, where $\\theta \\in [0, 1)$.\n",
        "\n",
        "Create a plot showing the probability Pr(0) in dependence on theta."
      ]
    },
    {
      "cell_type": "code",
      "metadata": {
        "id": "d0KGNC0KrRX3",
        "colab_type": "code",
        "colab": {}
      },
      "source": [
        "import numpy as np\n",
        "import scipy as sp\n",
        "from scipy import linalg as la\n",
        "\n",
        "# Define standard matrices\n",
        "ket_0 = np.array([[1],[0]])\n",
        "ket_1 = np.array([[0],[1]])\n",
        "identity = np.matrix([[1,0],[0,1]])\n",
        "hadamard_matrix = np.matrix([[1,1],[1,-1]])\n",
        "\n",
        "# Define outer product\n",
        "def outer_product(ket_psi):\n",
        "  bra_psi = np.conj(ket_psi).T\n",
        "  return np.matmul(ket_psi, bra_psi)\n",
        "\n",
        "def controlled_gate(U):\n",
        "  return (np.kron(outer_product(ket_0), identity) +\n",
        "           (np.kron(outer_product(ket_1), U)))\n",
        "  \n",
        "def hadamard_gate(ket_psi):\n",
        "  return np.matmul(((1/(np.sqrt(2)))*hadamard_matrix),ket_psi)\n",
        "\n",
        "def hadamard_test(ket_psi, U):\n",
        "  # Step 1\n",
        "  h1 = hadamard_gate(ket_0)\n",
        "  result = np.kron(h1, ket_psi)\n",
        "  print(result)\n",
        "  # Step 2\n",
        "  controlled_U = controlled_gate(U)\n",
        "  result = np.kron(h1,controlled_U)\n",
        "  print(result)\n",
        "  # Step 3\n",
        "  result = np.kron(h1, result)\n",
        "  print(result)\n"
      ],
      "execution_count": 0,
      "outputs": []
    },
    {
      "cell_type": "markdown",
      "metadata": {
        "id": "CeYQBNoQ8ecA",
        "colab_type": "text"
      },
      "source": [
        "**Problem 2**\n",
        "\n",
        "Implement a simulation of the SWAP test.\n",
        "\n",
        "Use $|\\psi_1> = |0>$ and $|\\psi_2> = \\cos(2 \\pi \\theta) |0> + \\sin(2 \\pi \\theta) |1>$. Create a plot showing the probability Pr(0) in dependence on theta.\n",
        "\n"
      ]
    },
    {
      "cell_type": "code",
      "metadata": {
        "id": "fBISOxm2wFNR",
        "colab_type": "code",
        "colab": {}
      },
      "source": [
        ""
      ],
      "execution_count": 0,
      "outputs": []
    }
  ]
}