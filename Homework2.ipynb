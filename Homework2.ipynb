{
  "nbformat": 4,
  "nbformat_minor": 0,
  "metadata": {
    "colab": {
      "name": "Homework2.ipynb",
      "provenance": [],
      "collapsed_sections": [],
      "authorship_tag": "ABX9TyOrOr1kNOoNMvlP8zywwH9h",
      "include_colab_link": true
    },
    "kernelspec": {
      "name": "python3",
      "display_name": "Python 3"
    }
  },
  "cells": [
    {
      "cell_type": "markdown",
      "metadata": {
        "id": "view-in-github",
        "colab_type": "text"
      },
      "source": [
        "<a href=\"https://colab.research.google.com/github/derrickgreenspan/COT5600/blob/master/Homework2.ipynb\" target=\"_parent\"><img src=\"https://colab.research.google.com/assets/colab-badge.svg\" alt=\"Open In Colab\"/></a>"
      ]
    },
    {
      "cell_type": "markdown",
      "metadata": {
        "id": "Ewh_TpTpvfq5",
        "colab_type": "text"
      },
      "source": [
        "# **Problem 1**\n",
        "\n",
        "Implement a simulation of the Hadamard test for any qubit state |psi> and any single qubit unitary U using numpy. Observe that you have to compute how the state of the quantum register changes. It is not enough to just code up the formula for the probabilities that we derived in class.\n",
        "\n",
        "Recall that you can realize the controlled-U gate as follows: $|0><0| \\otimes I + |1><1| \\otimes U$. Use the numpy command np.kron for the tensor product.\n",
        "\n",
        "For $|\\psi>$ use the state $|0>$ and for the unitary U use the orthogonal matrix that describes the rotation by angle $2\\pi \\theta$, where $\\theta \\in [0, 1)$.\n",
        "\n",
        "Create a plot showing the probability Pr(0) in dependence on theta.\n",
        "\n",
        "**Code**"
      ]
    },
    {
      "cell_type": "code",
      "metadata": {
        "id": "d0KGNC0KrRX3",
        "colab_type": "code",
        "colab": {}
      },
      "source": [
        "import numpy as np\n",
        "import scipy as sp\n",
        "from matplotlib import pyplot\n",
        "from scipy import linalg as la\n",
        "\n",
        "# Define standard matrices\n",
        "ket_0 = np.array([[1],[0]])\n",
        "ket_1 = np.array([[0],[1]])\n",
        "identity = np.matrix([[1,0],[0,1]])\n",
        "hadamard_matrix = np.matrix([[1,1],[1,-1]])\n",
        "\n",
        "# Define outer product\n",
        "def outer_product(ket_psi):\n",
        "  bra_psi = np.conj(ket_psi).T\n",
        "  return np.matmul(ket_psi, bra_psi)\n",
        "\n",
        "def controlled_gate(U, ket_psi):\n",
        "  return np.dot((np.kron(outer_product(ket_0), identity) +\n",
        "           (np.kron(outer_product(ket_1), U))), ket_psi)\n",
        "  \n",
        "def hadamard_gate(ket_psi):\n",
        "  return np.matmul(((1/(np.sqrt(2)))*hadamard_matrix),ket_psi)\n",
        "\n",
        "def hadamard_test(ket_psi, U):\n",
        "  # Step 1\n",
        "  h1 = hadamard_gate(ket_0)\n",
        "  h1 = np.kron(h1, ket_psi)\n",
        "\n",
        "  # Step 2\n",
        "  controlled_U = controlled_gate(U, h1)\n",
        "\n",
        "  # Step 3\n",
        "  H_matrix = (1/(np.sqrt(2))) * hadamard_matrix \n",
        "  apply_H_on_first_qbit = np.kron(H_matrix, identity)\n",
        "  step_3_result = np.dot(apply_H_on_first_qbit, controlled_U)\n",
        "  \n",
        "  # Step 4\n",
        "  # Perform a mesaurement on the first qubit with the projector operator\n",
        "  result = la.norm(np.dot(np.kron(outer_product(ket_0), identity), step_3_result)) ** 2\n",
        "  return result"
      ],
      "execution_count": 0,
      "outputs": []
    },
    {
      "cell_type": "markdown",
      "metadata": {
        "id": "qvp5Imv0vbft",
        "colab_type": "text"
      },
      "source": [
        "**Testing**\n",
        "\n",
        "Use the rotational matrix \n",
        "\n",
        "$U = \\left(\\begin{array}{cc}\\cos(2\\pi\\theta) & -\\sin(2\\pi\\theta) \\\\ \\sin(2\\pi\\theta) & \\cos(2\\pi\\theta) \\end{array}\\right)$\n",
        "\n",
        "For testing. We assume that $|\\psi\\rangle = |0\\rangle$, and $\\theta \\in [0,1)$\n"
      ]
    },
    {
      "cell_type": "code",
      "metadata": {
        "id": "YQBWVuIExFyT",
        "colab_type": "code",
        "outputId": "3b130e36-4773-48cf-c684-3c3610146496",
        "colab": {
          "base_uri": "https://localhost:8080/",
          "height": 312
        }
      },
      "source": [
        "ket_psi = ket_0\n",
        "testing_size = 5000\n",
        "theta = np.linspace(0., 0.999999, testing_size)\n",
        "probe = np.empty(testing_size)\n",
        "for i in range(testing_size):\n",
        "  theta_angle = 2*np.pi*theta[i]\n",
        "  U = np.array(([np.cos(theta_angle), -np.sin(theta_angle)],[np.sin(theta_angle), np.cos(theta_angle)]))\n",
        "  probe[i] = hadamard_test(ket_psi, U)\n",
        "\n",
        "pyplot.plot(theta, probe)\n",
        "pyplot.title('Probability of the measured outcome being 0')\n",
        "pyplot.xlabel('θ')\n",
        "pyplot.ylabel('Probability')\n"
      ],
      "execution_count": 0,
      "outputs": [
        {
          "output_type": "execute_result",
          "data": {
            "text/plain": [
              "Text(0, 0.5, 'Probability')"
            ]
          },
          "metadata": {
            "tags": []
          },
          "execution_count": 64
        },
        {
          "output_type": "display_data",
          "data": {
            "image/png": "[encoded data removed]",
            "text/plain": [
              "<Figure size 432x288 with 1 Axes>"
            ]
          },
          "metadata": {
            "tags": []
          }
        }
      ]
    },
    {
      "cell_type": "markdown",
      "metadata": {
        "id": "CeYQBNoQ8ecA",
        "colab_type": "text"
      },
      "source": [
        "# **Problem 2**\n",
        "\n",
        "Implement a simulation of the SWAP test.\n",
        "\n",
        "Use $|\\psi_1\\rangle = |0\\rangle$ and $|\\psi_2\\rangle = \\cos(2 \\pi \\theta) |0\\rangle + \\sin(2 \\pi \\theta) |1\\rangle$. Create a plot showing the probability Pr(0) in dependence on theta.\n",
        "\n",
        "**Code**"
      ]
    },
    {
      "cell_type": "code",
      "metadata": {
        "id": "LikZX5Yv0HXT",
        "colab_type": "code",
        "colab": {}
      },
      "source": [
        "def controlled_swap_gate(ket_psi):\n",
        "  swap = np.array([[1,0,0,0,0,0,0,0],\n",
        "                  [0,1,0,0,0,0,0,0],\n",
        "                  [0,0,1,0,0,0,0,0],\n",
        "                  [0,0,0,1,0,0,0,0],\n",
        "                  [0,0,0,0,1,0,0,0],\n",
        "                  [0,0,0,0,0,0,1,0],\n",
        "                  [0,0,0,0,0,1,0,0],\n",
        "                  [0,0,0,0,0,0,0,1]])\n",
        "  return np.dot(swap, ket_psi)\n",
        "\n",
        "def swap_test(ket_psi_1, ket_psi_2):\n",
        "  # Step 1\n",
        "  h1 = hadamard_gate(ket_0)\n",
        "  hadamard_gate_ket_0 = np.kron(np.kron(h1, ket_psi_1), ket_psi_2)\n",
        "  #print(hadamard_gate_ket_0)\n",
        "  #print(\"\\n\")\n",
        "\n",
        "  # Step 2\n",
        "  controlled_swap = controlled_swap_gate(hadamard_gate_ket_0)\n",
        "  #print(h2)\n",
        "\n",
        "  # Step 3\n",
        "  H_matrix = (1/(np.sqrt(2))) * hadamard_matrix \n",
        "  apply_H_on_first_qbit = np.kron(np.kron(H_matrix, identity),identity)\n",
        "  step_3_result = np.dot(apply_H_on_first_qbit, controlled_swap)\n",
        "  #print(step_3_result)\n",
        "\n",
        "  # Step 4\n",
        "  # Perform a mesaurement on the first qubit with the projector operator\n",
        "  result = la.norm(np.dot(np.kron(np.kron(outer_product(ket_0), identity), identity),step_3_result)) ** 2\n",
        "  return result"
      ],
      "execution_count": 0,
      "outputs": []
    },
    {
      "cell_type": "markdown",
      "metadata": {
        "id": "kL9YGLku0oaf",
        "colab_type": "text"
      },
      "source": [
        "**Testing**\n",
        "\n",
        "Use the rotational matrix\n",
        "\n",
        "$U = \\left(\\begin{array}{cc}\\cos(2\\pi\\theta) & -\\sin(2\\pi\\theta) \\\\ \\sin(2\\pi\\theta) & \\cos(2\\pi\\theta) \\end{array}\\right)$\n",
        "\n",
        "For testing. \n",
        "\n",
        "We assume that $|\\psi\\rangle=|0\\rangle$, and $\\theta \\in [0,1)$"
      ]
    },
    {
      "cell_type": "code",
      "metadata": {
        "id": "fBISOxm2wFNR",
        "colab_type": "code",
        "outputId": "b713c483-adfb-450e-ce0b-19cb3eeb411f",
        "colab": {
          "base_uri": "https://localhost:8080/",
          "height": 312
        }
      },
      "source": [
        "ket_psi_1 = ket_0\n",
        "testing_size = 5000\n",
        "theta = np.linspace(0., 0.999999, testing_size)\n",
        "probe = np.empty(testing_size)\n",
        "for i in range(testing_size):\n",
        "  angle = 2*np.pi*theta[i]\n",
        "  ket_psi_2 = np.cos(angle)*ket_0 + np.sin(angle) * ket_1\n",
        "  probe[i] = swap_test(ket_psi_1, ket_psi_2)\n",
        "\n",
        "pyplot.plot(theta, probe)\n",
        "pyplot.title('Probability of the measured outcome being 0')\n",
        "pyplot.xlabel('θ')\n",
        "pyplot.ylabel('Probability')"
      ],
      "execution_count": 0,
      "outputs": [
        {
          "output_type": "execute_result",
          "data": {
            "text/plain": [
              "Text(0, 0.5, 'Probability')"
            ]
          },
          "metadata": {
            "tags": []
          },
          "execution_count": 60
        },
        {
          "output_type": "display_data",
          "data": {
            "image/png": "[encoded data removed]",
            "text/plain": [
              "<Figure size 432x288 with 1 Axes>"
            ]
          },
          "metadata": {
            "tags": []
          }
        }
      ]
    }
  ]
}