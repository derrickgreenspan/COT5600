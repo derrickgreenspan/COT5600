{
  "nbformat": 4,
  "nbformat_minor": 0,
  "metadata": {
    "colab": {
      "name": "hw_1_problem_2.ipynb",
      "provenance": [],
      "collapsed_sections": [],
      "include_colab_link": true
    },
    "kernelspec": {
      "name": "python3",
      "display_name": "Python 3"
    }
  },
  "cells": [
    {
      "cell_type": "markdown",
      "metadata": {
        "id": "view-in-github",
        "colab_type": "text"
      },
      "source": [
        "<a href=\"https://colab.research.google.com/github/derrickgreenspan/COT5600/blob/master/hw_1_problem_2.ipynb\" target=\"_parent\"><img src=\"https://colab.research.google.com/assets/colab-badge.svg\" alt=\"Open In Colab\"/></a>"
      ]
    },
    {
      "cell_type": "markdown",
      "metadata": {
        "id": "sGf-nYo10Klf",
        "colab_type": "text"
      },
      "source": [
        "## HW 1 ##"
      ]
    },
    {
      "cell_type": "markdown",
      "metadata": {
        "id": "dO_S4Lfp2ikH",
        "colab_type": "text"
      },
      "source": [
        "### Problem 2 ###"
      ]
    },
    {
      "cell_type": "markdown",
      "metadata": {
        "id": "G0vOp72N8Ir9",
        "colab_type": "text"
      },
      "source": [
        "**Some definitions**"
      ]
    },
    {
      "cell_type": "markdown",
      "metadata": {
        "id": "tpAherNO2k0W",
        "colab_type": "text"
      },
      "source": [
        "Let \n",
        "\n",
        "$$M\\in\\mathbb{R}^{n\\times n}$$ be an arbitrary matrix.  \n",
        "\n",
        "Let $$p(x)=a_0 + a_1 x + a_2 x^2 + \\ldots + a_n x^n \\in\\mathbb{R}[x]$$ be an arbitrary polynomial of less or equal to $n$.\n",
        "\n",
        "The above polynomial can be used to define a matrix function that takes matrices as input and outputs matrices as follows: \n",
        "\n",
        "$$p(M) = a_0 I + a_1 M + \\ldots + a_n M^n,$$ \n",
        "\n",
        "that is, each monomial $x^k$ is substituted by the corresponding matrix power $M^k$.\n",
        "\n",
        "We say that a polynomial $p(x)$ annihilates a matrix $M\\in\\mathbb{R}^{n\\times n}$ iff $p(M)=\\boldsymbol{0}$, where $\\boldsymbol{0}$ is the zero matrix."
      ]
    },
    {
      "cell_type": "markdown",
      "metadata": {
        "id": "VqlwG3yO6eGm",
        "colab_type": "text"
      },
      "source": [
        "**Task**"
      ]
    },
    {
      "cell_type": "markdown",
      "metadata": {
        "id": "n4ltay5l26H-",
        "colab_type": "text"
      },
      "source": [
        "The task is to write a function ```annihilate_poly``` that takes as input an arbitrary square numpy array $M$ and outputs a vector whose cofficients are the coefficients of a (non-trivial) polynomial that annihilates $M$.  Non-trivial means that its is not the zero polynomial which maps every matrix to the zero matrix."
      ]
    },
    {
      "cell_type": "markdown",
      "metadata": {
        "id": "F5jLtN6i6kr2",
        "colab_type": "text"
      },
      "source": [
        "**Hint**"
      ]
    },
    {
      "cell_type": "markdown",
      "metadata": {
        "id": "gX0wbu8z3eDu",
        "colab_type": "text"
      },
      "source": [
        "You can reduce the problem to finding a linear dependance relationship between the $n+1$ vectors \n",
        "\n",
        "$$\\mathrm{vec}(I), \\mathrm{vec}(M), \\mathrm{vec}(M^2),\\ldots,\\mathrm{vec}(M^n)\\in\\mathrm{R}^{n^2}.$$\n",
        "\n"
      ]
    },
    {
      "cell_type": "markdown",
      "metadata": {
        "id": "n3SRuDOi5DLH",
        "colab_type": "text"
      },
      "source": [
        "The operation $\\mathrm{vec}$ turns a square matrix $M\\in\\mathbb{R}^{n\\times n}$ into a vector $v\\in\\mathbb{R}^{n^2}$ by first listing the entries of the first row, then those of the second row etc."
      ]
    },
    {
      "cell_type": "markdown",
      "metadata": {
        "id": "KXdlDLbQ7lHm",
        "colab_type": "text"
      },
      "source": [
        "Update: \n",
        "\n",
        "To solve this problem, you have to compute the null space of the matrix $A\\in \\mathbb{R}^{n^2\\times (n+1)}$ whose columns are the vectors $\\mathrm{vec}(M^k)$ for $k\\in\\{0,\\ldots,n\\}$."
      ]
    },
    {
      "cell_type": "code",
      "metadata": {
        "colab_type": "code",
        "id": "VYD3uje8h55N",
        "colab": {}
      },
      "source": [
        "# Found this very useful: https://www.geeksforgeeks.org/null-space-and-nullity-of-a-matrix/\n",
        "\n",
        "import numpy as np\n",
        "import scipy as sp\n",
        "from scipy import linalg as la\n",
        "\n",
        "def vec(array): # See here https://stackoverflow.com/questions/25248290/most-elegant-implementation-of-matlabs-vec-function-in-numpy\n",
        "  return array.flatten(\"F\") #array.T.reshape((1, -1), order=\"F\") \n",
        "\n",
        "def get_A_column(array, deg): # Probably should name this something better...\n",
        "  return np.array(vec(np.linalg.matrix_power(array, deg))).T\n",
        "\n",
        "def get_A_matrix(array, deg):\n",
        "  matrix = get_A_column(array, 0)\n",
        "  for i in range(1, deg):\n",
        "    matrix = np.append(matrix, vec(np.linalg.matrix_power(array, i)).T, axis=1)\n",
        "  return matrix\n",
        "\n",
        "def get_null_space(array, deg):\n",
        "  matrix = get_A_matrix(array, deg+1)\n",
        "  return la.null_space(matrix)\n",
        "\n",
        "def annhilate_poly(array, deg):\n",
        "  if array.shape[0] != array.shape[1]:\n",
        "    return\n",
        "  matrix = get_null_space(array, deg)\n",
        "  return np.flip(matrix.T)"
      ],
      "execution_count": 0,
      "outputs": []
    },
    {
      "cell_type": "markdown",
      "metadata": {
        "id": "je97MuQ981hW",
        "colab_type": "text"
      },
      "source": [
        "**Task**"
      ]
    },
    {
      "cell_type": "markdown",
      "metadata": {
        "id": "H0LgESqW8_7O",
        "colab_type": "text"
      },
      "source": [
        "Write a function ```annihilate_min_deg_poly``` that computes a non-trivial polynomial that annihilates a given square matrix and has the smallest possible degree.  Recall that a polynomial $p(x)$ has degree $d$ if the coefficient $a_{d+1}=\\ldots=a_n=0$."
      ]
    },
    {
      "cell_type": "code",
      "metadata": {
        "id": "KU94UiOz0UI9",
        "colab_type": "code",
        "colab": {}
      },
      "source": [
        "def annhilate_min_deg_poly(array):\n",
        "    if array.shape[0] != array.shape[1]:\n",
        "        print(\"This matrix is not a square matrix and thus cannot be annihilated\")\n",
        "        return\n",
        "    degree = array.shape[0]\n",
        "    for i in range(0, degree+1):\n",
        "        if(annhilate_poly(array, i).size) != 0:\n",
        "            return annhilate_poly(array, i), i    \n",
        "    print(\"There is no non-trivial polynomial that annihlates the given matrix\")\n",
        "    return"
      ],
      "execution_count": 0,
      "outputs": []
    },
    {
      "cell_type": "markdown",
      "metadata": {
        "id": "il3ZvTmH1cW4",
        "colab_type": "text"
      },
      "source": [
        "**Test cases:**\n",
        "\n",
        "---\n",
        "\n",
        "X Matrix: \n",
        "\n",
        "    0 1\n",
        "    1 0\n",
        "\n",
        "Result: \n",
        "\n",
        "\n",
        "\n",
        "```\n",
        "(array([[-0.70710678,  0.        ,  0.70710678]]), 2)\n",
        "```\n",
        "(Minimal degree 2, the minimum annhilating polynomial is: ${-1 \\over \\sqrt(2)} x^2 + {1 \\over \\sqrt(2)}$)\n",
        "\n",
        "\n",
        "Basic Matrix:\n",
        "\n",
        "    1 2\n",
        "    3 4\n",
        "\n",
        "Result:\n",
        "\n",
        "```\n",
        "(array([[-0.18257419,  0.91287093,  0.36514837]]), 2)\n",
        "```\n",
        "\n",
        "(Minimal degree 2, the minimum annhilating polynomial is: $-0.18257419x^2 + 0.91287093x + 0.36514837$ )\n",
        "\n",
        "A matrix less than its degree:  (Found here: http://math.kangwon.ac.kr/~yhpark/webla/lin-alg/node5.html)\n",
        "\n",
        "    5 -6 -6\n",
        "    -1 4 2\n",
        "    3 -6 -4\n",
        "\n",
        "Result:\n",
        "\n",
        "```\n",
        "(array([[-0.26726124,  0.80178373, -0.53452248]]), 2)\n",
        "```\n",
        "\n",
        "(Minimal degree 2, the minimum annhilating polynomial is: $-0.26726124x^2 + 0.80178373x - 0.53452248 $ )\n",
        "\n",
        "\n",
        "\n",
        "\n"
      ]
    }
  ]
}