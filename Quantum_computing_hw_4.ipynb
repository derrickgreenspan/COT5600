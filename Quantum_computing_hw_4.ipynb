{
  "nbformat": 4,
  "nbformat_minor": 0,
  "metadata": {
    "colab": {
      "name": "Quantum_computing_hw_4.ipynb",
      "provenance": [],
      "collapsed_sections": [],
      "include_colab_link": true
    },
    "kernelspec": {
      "name": "python3",
      "display_name": "Python 3"
    }
  },
  "cells": [
    {
      "cell_type": "markdown",
      "metadata": {
        "id": "view-in-github",
        "colab_type": "text"
      },
      "source": [
        "<a href=\"https://colab.research.google.com/github/derrickgreenspan/COT5600/blob/master/Quantum_computing_hw_4.ipynb\" target=\"_parent\"><img src=\"https://colab.research.google.com/assets/colab-badge.svg\" alt=\"Open In Colab\"/></a>"
      ]
    },
    {
      "cell_type": "markdown",
      "metadata": {
        "id": "wf2A1lXe6JFT",
        "colab_type": "text"
      },
      "source": [
        "## HW 4"
      ]
    },
    {
      "cell_type": "markdown",
      "metadata": {
        "id": "hqRx6Utk6O2i",
        "colab_type": "text"
      },
      "source": [
        "### Problem 1 "
      ]
    },
    {
      "cell_type": "markdown",
      "metadata": {
        "id": "CAw2poAb6rci",
        "colab_type": "text"
      },
      "source": [
        "Implement Floyd's collision detection algorithm to find collisions.  It is OK if you look up the code for this on the internet.  Check out the wikipedia page [https://en.wikipedia.org/wiki/Cycle_detection](https://en.wikipedia.org/wiki/Cycle_detection).  "
      ]
    },
    {
      "cell_type": "code",
      "metadata": {
        "id": "HwiiIFfI_91x",
        "colab_type": "code",
        "colab": {}
      },
      "source": [
        "def floyd(f, x0): # From wikipedia: https://en.wikipedia.org/wiki/Cycle_detection\n",
        "    tortoise = f(x0) # f(x0) is the element/node next to x0.\n",
        "    hare = f(f(x0))\n",
        "    while tortoise != hare:\n",
        "        tortoise = f(tortoise)\n",
        "        hare = f(f(hare))\n",
        "  \n",
        "    # Find the position μ of first repetition.    \n",
        "    mu = 0\n",
        "    tortoise = x0\n",
        "    while tortoise != hare:\n",
        "        tortoise = f(tortoise)\n",
        "        hare = f(hare)   # Hare and tortoise move at same speed\n",
        "        mu += 1\n",
        " \n",
        "    lam = 1\n",
        "    hare = f(tortoise)\n",
        "    while tortoise != hare:\n",
        "        hare = f(hare)\n",
        "        lam += 1\n",
        " \n",
        "    return lam, mu\n"
      ],
      "execution_count": 0,
      "outputs": []
    },
    {
      "cell_type": "markdown",
      "metadata": {
        "id": "YGvKfv8Q6_La",
        "colab_type": "text"
      },
      "source": [
        "### Problem 2"
      ]
    },
    {
      "cell_type": "code",
      "metadata": {
        "id": "I3930qUK7Z_i",
        "colab_type": "code",
        "outputId": "a44b24d6-5c2e-41e9-f147-46db89368f46",
        "colab": {
          "base_uri": "https://localhost:8080/",
          "height": 69
        }
      },
      "source": [
        "import math\n",
        "\n",
        "# implement the function find_order\n",
        "def find_order(a, N):\n",
        "\n",
        "  if(math.gcd(a, N)) != 1: # If they are not coprime...\n",
        "    return -1\n",
        "  \n",
        "  def f(x):\n",
        "    return (a*x) % N\n",
        "  # using the method from problem 1 \n",
        "  # compute the order r of a module N\n",
        "  r = floyd(f, 1)\n",
        "\n",
        "  return r[0]\n",
        "\n",
        "print(\"Finding the smallest r such that (a**r % N == 1) for 4 and 7:\", find_order(4, 7))\n",
        "print(\"Finding the smallest r such that (a**r % N == 1) for 3 and 10:\", find_order(3, 10))\n",
        "print(\"Finding the smallest r such that (a**r % N == 1) for 8 and 10:\", find_order(8, 10))"
      ],
      "execution_count": 0,
      "outputs": [
        {
          "output_type": "stream",
          "text": [
            "Finding the smallest r such that (a**r % N == 1) for 4 and 7: 3\n",
            "Finding the smallest r such that (a**r % N == 1) for 3 and 10: 4\n",
            "Finding the smallest r such that (a**r % N == 1) for 8 and 10: -1\n"
          ],
          "name": "stdout"
        }
      ]
    },
    {
      "cell_type": "markdown",
      "metadata": {
        "id": "b237qgr27rxx",
        "colab_type": "text"
      },
      "source": [
        "### Problem 3"
      ]
    },
    {
      "cell_type": "code",
      "metadata": {
        "id": "ZObTYzc-7toX",
        "colab_type": "code",
        "outputId": "17931c64-28b1-473b-cdf3-8dffcf4f9b58",
        "colab": {
          "base_uri": "https://localhost:8080/",
          "height": 69
        }
      },
      "source": [
        "import numpy as np\n",
        "\n",
        "# implement the function factor\n",
        "\n",
        "def factor(N):\n",
        "  # choose a uniformly at random in {2,...,N-1}\n",
        "  # compute the order r of a module N using the method from problem 2\n",
        "  # if r odd, chose different a\n",
        "  # if r even, compute f = gcd(a**(r/2 -1), N))\n",
        "  # if f is a trivial factor, choose different a\n",
        "  # if other function fails, return -1\n",
        "\n",
        "  while True: #infinite loop\n",
        "    a = np.random.randint(2, N)\n",
        "    r = find_order(a, N)\n",
        "\n",
        "    if(r == -1):\n",
        "      return math.gcd(a, N)\n",
        "\n",
        "    if(r % 2) == 0:\n",
        "      f = math.gcd(a**((int)(r/2) -1), N)\n",
        "\n",
        "      if(f != 1 and f != N): #make sure f is non-trivial\n",
        "        return f\n",
        "\n",
        "print(\"Random factor of 1024:\", factor(1024))\n",
        "print(\"Random factor of 49:\", factor(49))\n",
        "print(\"Random factor of 32:\", factor(32))"
      ],
      "execution_count": 0,
      "outputs": [
        {
          "output_type": "stream",
          "text": [
            "Random factor of 1024: 32\n",
            "Random factor of 49: 7\n",
            "Random factor of 32: 8\n"
          ],
          "name": "stdout"
        }
      ]
    }
  ]
}