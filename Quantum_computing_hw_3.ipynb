{
  "nbformat": 4,
  "nbformat_minor": 0,
  "metadata": {
    "colab": {
      "name": "Quantum_computing_hw_3.ipynb",
      "provenance": [],
      "collapsed_sections": [],
      "include_colab_link": true
    },
    "kernelspec": {
      "name": "python3",
      "display_name": "Python 3"
    }
  },
  "cells": [
    {
      "cell_type": "markdown",
      "metadata": {
        "id": "view-in-github",
        "colab_type": "text"
      },
      "source": [
        "<a href=\"https://colab.research.google.com/github/derrickgreenspan/COT5600/blob/master/Quantum_computing_hw_3.ipynb\" target=\"_parent\"><img src=\"https://colab.research.google.com/assets/colab-badge.svg\" alt=\"Open In Colab\"/></a>"
      ]
    },
    {
      "cell_type": "markdown",
      "metadata": {
        "id": "wf2A1lXe6JFT",
        "colab_type": "text"
      },
      "source": [
        "## HW 3"
      ]
    },
    {
      "cell_type": "markdown",
      "metadata": {
        "id": "hqRx6Utk6O2i",
        "colab_type": "text"
      },
      "source": [
        "### Problem 1 "
      ]
    },
    {
      "cell_type": "markdown",
      "metadata": {
        "id": "-CJ51pId-O-s",
        "colab_type": "text"
      },
      "source": [
        "Let $\\omega=\\mathrm{exp}(2\\pi i/N)$ be the $N$th root of unity.  The Fourier matrix of size $N$ is the matrix $F_N=(q_{k,\\ell})\\in\\mathbb{C}^{N\\times N}$ whose entries are given by\n",
        "$$q_{k,\\ell}=\\frac{1}{\\sqrt{N}} \\omega^{k \\cdot \\ell}$$ for $k, \\ell \\in \\{0,\\ldots,N-1\\}$."
      ]
    },
    {
      "cell_type": "markdown",
      "metadata": {
        "id": "GvWI1jUeAY_6",
        "colab_type": "text"
      },
      "source": [
        "Using numpy, implement the function ```get_fourier_matrix``` that create the Fourier matrix of size $N$.\n",
        "\n",
        "Compute the eigenvalues of eigenvectors of the Fourier matrix.  \n",
        "\n",
        "To check that your code is correct, you should verify that the Fourier matrix is unitary and that its eigenvalues are $N$th roots of unity."
      ]
    },
    {
      "cell_type": "code",
      "metadata": {
        "id": "_N2KjxSAnWjd",
        "colab_type": "code",
        "outputId": "9a51f065-7795-4a91-ba24-64db0461863a",
        "colab": {
          "base_uri": "https://localhost:8080/",
          "height": 225
        }
      },
      "source": [
        "import numpy as np\n",
        "def get_fourier_matrix(N):\n",
        "  omega = np.exp((2*np.pi*1j)/N)\n",
        "  normalizer = 1/np.sqrt(N)\n",
        "  return np.asarray([[normalizer*omega**(j*i) for i in range(N)] for j in range(N)])\n",
        "\n",
        "def check_if_unitary(f): # From https://stackoverflow.com/questions/34997244/is-there-a-way-in-numpy-to-test-whether-a-matrix-is-unitary (link given to me by Justin Gosselin)\n",
        "  return np.allclose(np.eye(len(f)), f.dot(f.T.conj()))  \n",
        "\n",
        "\n",
        "# Test output\n",
        "size = 2\n",
        "fourier_matrix_size_2 = get_fourier_matrix(size)\n",
        "print(fourier_matrix_size_2)\n",
        "if(check_if_unitary(fourier_matrix_size_2)):\n",
        "  print(\"The matrix of size\", size, \"is unitary\")\n",
        "else:\n",
        "  printf(\"The matrix of size\", size, \"is not unitary\")\n",
        "\n",
        "if(np.allclose(np.eye(len(fourier_matrix_size_2)),\n",
        "               la.matrix_power(fourier_matrix_size_2, 4))):\n",
        "  print(\"The fourth power of the fourier matrix is the identity matrix\")\n",
        "else:\n",
        "    print(\"The fourth power of the fourier matrix is not the identity matrix\")\n",
        "\n",
        "if(np.allclose((la.eig(fourier_matrix_size_2)[0]**4), 1)):\n",
        "  print(\"The eigenvalues of the fourier matrix of size\", size, \"are the\",\n",
        "          \"4th roots of unity\")\n",
        "else:\n",
        "  print(\"The eigenvalues of the fourier matrix of size\", size, \"are not\",\n",
        "        \"the 4th roots of unity\")\n",
        "\n",
        "\n",
        "\n",
        "\n",
        "# Let's try another one\n",
        "size = 3\n",
        "fourier_matrix_size_3 = get_fourier_matrix(size)\n",
        "print(\"\\n\", fourier_matrix_size_3)\n",
        "if(check_if_unitary(fourier_matrix_size_3)):\n",
        "  print(\"The matrix of size\", size, \"is unitary\")\n",
        "else:\n",
        "  printf(\"The matrix of size\", size, \"is not unitary\")\n",
        "\n",
        "if(np.allclose(np.eye(len(fourier_matrix_size_3)),\n",
        "               la.matrix_power(fourier_matrix_size_3, 4))):\n",
        "  print(\"The fourth power of the fourier matrix is the identity matrix\")\n",
        "else:\n",
        "    print(\"The fourth power of the fourier matrix is not the identity matrix\")\n",
        "\n",
        "if(np.allclose((la.eig(fourier_matrix_size_3)[0]**4), 1)):\n",
        "  print(\"The eigenvalues of the fourier matrix of size\", size, \"are the\",\n",
        "          \"4th roots of unity\")\n",
        "else:\n",
        "  print(\"The eigenvalues of the fourier matrix of size\", size, \"are not\",\n",
        "        \"the 4th roots of unity\")\n",
        "\n",
        "\n"
      ],
      "execution_count": 0,
      "outputs": [
        {
          "output_type": "stream",
          "text": [
            "[[ 0.70710678+0.00000000e+00j  0.70710678+0.00000000e+00j]\n",
            " [ 0.70710678+0.00000000e+00j -0.70710678+8.65956056e-17j]]\n",
            "The matrix of size 2 is unitary\n",
            "The fourth power of the fourier matrix is the identity matrix\n",
            "The eigenvalues of the fourier matrix of size 2 are the 4th roots of unity\n",
            "\n",
            " [[ 0.57735027+0.j   0.57735027+0.j   0.57735027+0.j ]\n",
            " [ 0.57735027+0.j  -0.28867513+0.5j -0.28867513-0.5j]\n",
            " [ 0.57735027+0.j  -0.28867513-0.5j -0.28867513+0.5j]]\n",
            "The matrix of size 3 is unitary\n",
            "The fourth power of the fourier matrix is the identity matrix\n",
            "The eigenvalues of the fourier matrix of size 3 are the 4th roots of unity\n"
          ],
          "name": "stdout"
        }
      ]
    },
    {
      "cell_type": "markdown",
      "metadata": {
        "id": "8p8OpYseZmse",
        "colab_type": "text"
      },
      "source": [
        "**Cyclic shift matrix**"
      ]
    },
    {
      "cell_type": "markdown",
      "metadata": {
        "id": "EdU_Ai9JZ4tu",
        "colab_type": "text"
      },
      "source": [
        "The cyclic shift matrix is the matrix $P_N=(p_{k,\\ell}\\in\\mathbb{C}^{N\\times N})$\n",
        " whose entries are given by\n",
        "\n",
        "$$ p_{k,\\ell} = 1 \\mbox{ if } \\ell = k + 1 \\pmod{N} $$\n",
        "\n",
        "$$ p_{k,\\ell} = 0 \\mbox{ if } \\ell \\neq k + 1 \\pmod{N} $$"
      ]
    },
    {
      "cell_type": "markdown",
      "metadata": {
        "id": "Pj_wzC70avuv",
        "colab_type": "text"
      },
      "source": [
        "Using numpy, implement the function ```get_cyclic_shift_matrix``` that create the cyclic shift matrix of size $N$.\n",
        "\n",
        "Compute the eigenvalues of $P_N$.\n",
        "\n",
        "To show that your code is correct, you should verify the following properties:\n",
        "\n",
        "- the cyclic shift matrix is unitary\n",
        "- the $N$th power of the cyclic shift matrix is the identity matrix\n",
        "- the eigenvalues of the cyclic shift matrix are $N$th roots of unity\n",
        "- the cyclic shift matrix is diagonalized by the Fourier matrix, that is, $F_N^\\dagger P_N F_N$ is diagonal."
      ]
    },
    {
      "cell_type": "code",
      "metadata": {
        "id": "W_qnTZ0HIk-_",
        "colab_type": "code",
        "outputId": "7450a04c-433d-4f1c-daec-5774140ae756",
        "colab": {
          "base_uri": "https://localhost:8080/",
          "height": 382
        }
      },
      "source": [
        "from numpy import linalg as la\n",
        "\n",
        "def get_cyclic_shift_matrix(N):\n",
        "  p = np.empty((N,N), dtype=int)\n",
        "  for i in range(N):\n",
        "    for j in range(N):\n",
        "      if(j == ((i+1)%N)):\n",
        "        p[i][j] = 1\n",
        "      else:\n",
        "        p[i][j] = 0\n",
        "        \n",
        "  return np.asarray(p)\n",
        "\n",
        "def verify(shift_matrix, N):\n",
        "  if(check_if_unitary(shift_matrix)):\n",
        "    print(\"Cyclic shift matrix of size\", N, \"is unitary!\")\n",
        "  else:\n",
        "    print(\"Cyclic shift matrix of size\", N, \"is not unitary!\")\n",
        "\n",
        "  if(np.allclose(np.eye(len(cyclic_shift_size_4)),\n",
        "                la.matrix_power(cyclic_shift_size_4, 4))):\n",
        "    print(\"When raised to the\", N,\"th power\", \"the cyclic shift matrix of size\",\n",
        "          N, \"is the identity matrix\")\n",
        "  else:\n",
        "    print(\"When raised to the\", N,\"th power\", \"the cyclic shift matrix of size\",\n",
        "          N, \"is not the identity matrix\")\n",
        "\n",
        "  if(np.allclose((la.eig(shift_matrix)[0]**N), 1)):\n",
        "    print(\"The eigenvalues of the cyclic shift matrix of size\", N, \"are the\",\n",
        "          N,\"th roots of unity\")\n",
        "  else:\n",
        "    print(\"The eigenvalues of the cyclic shift matrix of size\", N, \"are not\",\n",
        "          \"the\",N,\"th roots of unity\")\n",
        "    \n",
        "  fourier_matrix = get_fourier_matrix(N)\n",
        "  diag_candidate = la.inv(fourier_matrix).dot(shift_matrix).dot(fourier_matrix)\n",
        " \n",
        "  if(np.allclose(np.diag(np.diag(diag_candidate)),\n",
        "                 diag_candidate)): # From https://stackoverflow.com/a/55123370\n",
        "    print(\"The cyclic shift matrix is diagonalized by the Fourier matrix\")\n",
        "  else:\n",
        "    print(\"The cyclic shift matrix is not diagonalized by the Fourier matrix\")\n",
        "    \n",
        "cyclic_shift_size_4 = get_cyclic_shift_matrix(4)\n",
        "print(\"\\nCyclic shift matrix of size 4 is:\")\n",
        "print(cyclic_shift_size_4)\n",
        "verify(cyclic_shift_size_4, 4)\n",
        "\n",
        "cyclic_shift_size_5 = get_cyclic_shift_matrix(5)\n",
        "print(\"\\nCyclic shift matrix of size 5 is:\")\n",
        "print(cyclic_shift_size_5)\n",
        "verify(cyclic_shift_size_5, 5)\n",
        "\n",
        "\n",
        "  \n"
      ],
      "execution_count": 0,
      "outputs": [
        {
          "output_type": "stream",
          "text": [
            "\n",
            "Cyclic shift matrix of size 4 is:\n",
            "[[0 1 0 0]\n",
            " [0 0 1 0]\n",
            " [0 0 0 1]\n",
            " [1 0 0 0]]\n",
            "Cyclic shift matrix of size 4 is unitary!\n",
            "When raised to the 4 th power the cyclic shift matrix of size 4 is the identity matrix\n",
            "The eigenvalues of the cyclic shift matrix of size 4 are the 4 th roots of unity\n",
            "The cyclic shift matrix is diagonalized by the Fourier matrix\n",
            "\n",
            "Cyclic shift matrix of size 5 is:\n",
            "[[0 1 0 0 0]\n",
            " [0 0 1 0 0]\n",
            " [0 0 0 1 0]\n",
            " [0 0 0 0 1]\n",
            " [1 0 0 0 0]]\n",
            "Cyclic shift matrix of size 5 is unitary!\n",
            "When raised to the 5 th power the cyclic shift matrix of size 5 is the identity matrix\n",
            "The eigenvalues of the cyclic shift matrix of size 5 are the 5 th roots of unity\n",
            "The cyclic shift matrix is diagonalized by the Fourier matrix\n"
          ],
          "name": "stdout"
        }
      ]
    },
    {
      "cell_type": "markdown",
      "metadata": {
        "id": "nuAnEb1xCVfs",
        "colab_type": "text"
      },
      "source": [
        "### Problem 2"
      ]
    },
    {
      "cell_type": "markdown",
      "metadata": {
        "id": "H3bqptmVDKCQ",
        "colab_type": "text"
      },
      "source": [
        "Using Qiskit IBM Q Experience, implement the quantum phase estimation circuit with 3-bit precision.  \n",
        "\n",
        "This quantum circuit is explained on pages 110-113 (Inverse Fourier transform for 3 qubits) of the lecture slides.\n",
        "\n",
        "You can preprare the initial state using ```u3``` gates. See [u3 gates](https://qiskit.org/documentation/tutorials/fundamentals/5_summary_of_quantum_operations.html?highlight=arbitrary%20single%20qubit%20gate#u-gates)\n",
        "\n",
        "The controlled $R_2^\\dagger$ gates are controlled ```u3``` gates.  See [controlled u3 gate](https://qiskit.org/documentation/tutorials/fundamentals/5_summary_of_quantum_operations.html?highlight=arbitrary%20single%20qubit%20gate#Controlled-u3-rotation)."
      ]
    },
    {
      "cell_type": "code",
      "metadata": {
        "id": "xTscUUhrwXzp",
        "colab_type": "code",
        "outputId": "2d096d3d-5fcd-4138-c1b1-e6d6a7e77524",
        "colab": {
          "base_uri": "https://localhost:8080/",
          "height": 861
        }
      },
      "source": [
        "%matplotlib inline\n",
        "# Importing standard Qiskit libraries and configuring account\n",
        "import qiskit\n",
        "from qiskit import QuantumCircuit, execute, ClassicalRegister, QuantumRegister, execute\n",
        "from qiskit.visualization import plot_histogram\n",
        "from qiskit.compiler import transpile, assemble\n",
        "from qiskit.quantum_info import state_fidelity\n",
        "from qiskit import BasicAer\n",
        "\n",
        "import matplotlib.pyplot as plt\n",
        "%matplotlib inline\n",
        "import numpy as np\n",
        "from math import pi\n",
        "\n",
        "# Most of this is from: https://qiskit.org/textbook/ch-algorithms/quantum-phase-estimation.html#2.-Example:-T-gate-\n",
        "\n",
        "backend = BasicAer.get_backend('unitary_simulator')\n",
        "\n",
        "def initialize_state(circuit, theta):\n",
        "  circuit.x(3) \n",
        "  for qubit in range(3):\n",
        "    circuit.h(qubit)\n",
        "\n",
        "  for i in range(4):\n",
        "    circuit.cu1(theta, 0, 3)\n",
        "\n",
        "  for i in range(2):\n",
        "    circuit.cu1(theta, 1, 3)\n",
        "\n",
        "  circuit.cu1(theta, 2, 3)\n",
        "\n",
        "\n",
        "def inverse_quantum_fourier_transform(circuit):\n",
        "  circuit.h(0)\n",
        "\n",
        "  circuit.cu1((-2*np.pi)/2**2, 0, 1)\n",
        "  circuit.h(1)\n",
        "\n",
        "  circuit.cu1((-2*np.pi)/2**3, 0, 2)\n",
        "  circuit.cu1((-2*np.pi)/2**2, 1, 2)\n",
        "  circuit.h(2)\n",
        "\n",
        "\n",
        "def quantum_phase_estimation(theta):\n",
        "  circuit = qiskit.QuantumCircuit(4,3)\n",
        "  \n",
        "  initialize_state(circuit, theta)\n",
        "\n",
        "  circuit.barrier()\n",
        "\n",
        "  inverse_quantum_fourier_transform(circuit)\n",
        "\n",
        "  circuit.barrier()\n",
        "\n",
        "  for i in range(3):\n",
        "    circuit.measure(i,i)\n",
        "  return circuit\n",
        "\n",
        "# Run some tests\n",
        "test_circuit = quantum_phase_estimation(2*np.pi*1/3)\n",
        "print(test_circuit)\n",
        "\n",
        "results1 = qiskit.execute(test_circuit, backend=qiskit.BasicAer.get_backend('qasm_simulator'),\n",
        "                     shots=2048).result()\n",
        "plot_histogram(results1.get_counts())"
      ],
      "execution_count": 39,
      "outputs": [
        {
          "output_type": "stream",
          "text": [
            "     ┌───┐                                                         ░ ┌───┐»\n",
            "q_0: ┤ H ├─■───────■───────■───────■───────────────────────────────░─┤ H ├»\n",
            "     ├───┤ │       │       │       │                               ░ └───┘»\n",
            "q_1: ┤ H ├─┼───────┼───────┼───────┼───────■───────■───────────────░──────»\n",
            "     ├───┤ │       │       │       │       │       │               ░      »\n",
            "q_2: ┤ H ├─┼───────┼───────┼───────┼───────┼───────┼───────■───────░──────»\n",
            "     ├───┤ │2pi/3  │2pi/3  │2pi/3  │2pi/3  │2pi/3  │2pi/3  │2pi/3  ░      »\n",
            "q_3: ┤ X ├─■───────■───────■───────■───────■───────■───────■───────░──────»\n",
            "     └───┘                                                         ░      »\n",
            "c_0: ═════════════════════════════════════════════════════════════════════»\n",
            "                                                                          »\n",
            "c_1: ═════════════════════════════════════════════════════════════════════»\n",
            "                                                                          »\n",
            "c_2: ═════════════════════════════════════════════════════════════════════»\n",
            "                                                                          »\n",
            "«                                        ░ ┌─┐      \n",
            "«q_0: ─■────────────■────────────────────░─┤M├──────\n",
            "«      │-pi/2 ┌───┐ │                    ░ └╥┘┌─┐   \n",
            "«q_1: ─■──────┤ H ├─┼───────■────────────░──╫─┤M├───\n",
            "«             └───┘ │-pi/4  │-pi/2 ┌───┐ ░  ║ └╥┘┌─┐\n",
            "«q_2: ──────────────■───────■──────┤ H ├─░──╫──╫─┤M├\n",
            "«                                  └───┘ ░  ║  ║ └╥┘\n",
            "«q_3: ───────────────────────────────────░──╫──╫──╫─\n",
            "«                                        ░  ║  ║  ║ \n",
            "«c_0: ══════════════════════════════════════╩══╬══╬═\n",
            "«                                              ║  ║ \n",
            "«c_1: ═════════════════════════════════════════╩══╬═\n",
            "«                                                 ║ \n",
            "«c_2: ════════════════════════════════════════════╩═\n",
            "«                                                   \n"
          ],
          "name": "stdout"
        },
        {
          "output_type": "execute_result",
          "data": {
            "image/png": "[encoded data removed]",
            "text/plain": [
              "<Figure size 504x360 with 1 Axes>"
            ]
          },
          "metadata": {
            "tags": []
          },
          "execution_count": 39
        }
      ]
    },
    {
      "cell_type": "code",
      "metadata": {
        "id": "KcNL5QgIXIJj",
        "colab_type": "code",
        "colab": {
          "base_uri": "https://localhost:8080/",
          "height": 860
        },
        "outputId": "504db809-030e-4e38-ed5d-eeba142a980d"
      },
      "source": [
        "# More tests\n",
        "test_circuit = quantum_phase_estimation(2*np.pi*1/4)\n",
        "print(test_circuit)\n",
        "\n",
        "results2 = qiskit.execute(test_circuit, backend=qiskit.BasicAer.get_backend('qasm_simulator'),\n",
        "                     shots=2048).result()\n",
        "plot_histogram(results2.get_counts())\n"
      ],
      "execution_count": 38,
      "outputs": [
        {
          "output_type": "stream",
          "text": [
            "     ┌───┐                               ┌───┐                          »\n",
            "q_0: ┤ H ├─■──────■──────■──────■────────┤ H ├─────────────■────────────»\n",
            "     ├───┤ │      │      │      │        └───┘             │-pi/2  ┌───┐»\n",
            "q_1: ┤ H ├─┼──────┼──────┼──────┼──────■──────────■────────■───────┤ H ├»\n",
            "     ├───┤ │      │      │      │      │          │                └───┘»\n",
            "q_2: ┤ H ├─┼──────┼──────┼──────┼──────┼──────────┼──────■──────────────»\n",
            "     ├───┤ │pi/2  │pi/2  │pi/2  │pi/2  │pi/pi/2   │pi/2  │pi/pi/2       »\n",
            "q_3: ┤ X ├─■──────■──────■──────■──────■──────────■──────■──────────────»\n",
            "     └───┘                                                              »\n",
            "c_0: ═══════════════════════════════════════════════════════════════════»\n",
            "                                                                        »\n",
            "c_1: ═══════════════════════════════════════════════════════════════════»\n",
            "                                                                        »\n",
            "c_2: ═══════════════════════════════════════════════════════════════════»\n",
            "                                                                        »\n",
            "«                     ┌─┐           \n",
            "«q_0: ─■──────────────┤M├───────────\n",
            "«      │              └╥┘     ┌─┐   \n",
            "«q_1: ─┼───────■───────╫──────┤M├───\n",
            "«      │-pi/4  │-pi/2  ║ ┌───┐└╥┘┌─┐\n",
            "«q_2: ─■───────■───────╫─┤ H ├─╫─┤M├\n",
            "«                      ║ └───┘ ║ └╥┘\n",
            "«q_3: ─────────────────╫───────╫──╫─\n",
            "«                      ║       ║  ║ \n",
            "«c_0: ═════════════════╩═══════╬══╬═\n",
            "«                              ║  ║ \n",
            "«c_1: ═════════════════════════╩══╬═\n",
            "«                                 ║ \n",
            "«c_2: ════════════════════════════╩═\n",
            "«                                   \n"
          ],
          "name": "stdout"
        },
        {
          "output_type": "execute_result",
          "data": {
            "image/png": "[encoded data removed]",
            "text/plain": [
              "<Figure size 504x360 with 1 Axes>"
            ]
          },
          "metadata": {
            "tags": []
          },
          "execution_count": 38
        }
      ]
    }
  ]
}