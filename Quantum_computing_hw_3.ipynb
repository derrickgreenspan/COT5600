{
  "nbformat": 4,
  "nbformat_minor": 0,
  "metadata": {
    "colab": {
      "name": "Quantum_computing_hw_3.ipynb",
      "provenance": [],
      "collapsed_sections": [],
      "include_colab_link": true
    },
    "kernelspec": {
      "name": "python3",
      "display_name": "Python 3"
    }
  },
  "cells": [
    {
      "cell_type": "markdown",
      "metadata": {
        "id": "view-in-github",
        "colab_type": "text"
      },
      "source": [
        "<a href=\"https://colab.research.google.com/github/derrickgreenspan/COT5600/blob/master/Quantum_computing_hw_3.ipynb\" target=\"_parent\"><img src=\"https://colab.research.google.com/assets/colab-badge.svg\" alt=\"Open In Colab\"/></a>"
      ]
    },
    {
      "cell_type": "markdown",
      "metadata": {
        "id": "wf2A1lXe6JFT",
        "colab_type": "text"
      },
      "source": [
        "## HW 3"
      ]
    },
    {
      "cell_type": "markdown",
      "metadata": {
        "id": "hqRx6Utk6O2i",
        "colab_type": "text"
      },
      "source": [
        "### Problem 1 "
      ]
    },
    {
      "cell_type": "markdown",
      "metadata": {
        "id": "-CJ51pId-O-s",
        "colab_type": "text"
      },
      "source": [
        "Let $\\omega=\\mathrm{exp}(2\\pi i/N)$ be the $N$th root of unity.  The Fourier matrix of size $N$ is the matrix $F_N=(q_{k,\\ell})\\in\\mathbb{C}^{N\\times N}$ whose entries are given by\n",
        "$$q_{k,\\ell}=\\frac{1}{\\sqrt{N}} \\omega^{k \\cdot \\ell}$$ for $k, \\ell \\in \\{0,\\ldots,N-1\\}$."
      ]
    },
    {
      "cell_type": "markdown",
      "metadata": {
        "id": "GvWI1jUeAY_6",
        "colab_type": "text"
      },
      "source": [
        "Using numpy, implement the function ```get_fourier_matrix``` that create the Fourier matrix of size $N$.\n",
        "\n",
        "Compute the eigenvalues of eigenvectors of the Fourier matrix.  \n",
        "\n",
        "To check that your code is correct, you should verify that the Fourier matrix is unitary and that its eigenvalues are $N$th roots of unity."
      ]
    },
    {
      "cell_type": "code",
      "metadata": {
        "id": "_N2KjxSAnWjd",
        "colab_type": "code",
        "outputId": "fd28b1e9-7691-42f1-f38f-fc01e8eeb3db",
        "colab": {
          "base_uri": "https://localhost:8080/",
          "height": 52
        }
      },
      "source": [
        "import numpy as np\n",
        "def get_fourier_matrix(N):\n",
        "  omega = np.exp((2*np.pi*1j)/N)\n",
        "  normalizer = 1/np.sqrt(N)\n",
        "  return np.asarray([[normalizer*omega**(j*i) for i in range(N)] for j in range(N)])\n",
        "\n",
        "def check_if_unitary(f): # From https://stackoverflow.com/questions/34997244/is-there-a-way-in-numpy-to-test-whether-a-matrix-is-unitary (link given to me by Justin Gosselin)\n",
        "  return np.allclose(np.eye(len(f)), f.dot(f.T.conj()))  \n",
        "\n",
        "\n",
        "# Test output\n",
        "size = 4\n",
        "fourier_matrix_size_4 = get_fourier_matrix(size)\n",
        "if(check_if_unitary(fourier_matrix_size_10)):\n",
        "  print(\"The matrix of size\", size, \"is unitary\")\n",
        "else:\n",
        "  printf(\"The matrix of size\", size, \"is not unitary\")\n",
        "\n",
        "\n",
        "# Let's try another one\n",
        "size = 10\n",
        "fourier_matrix_size_10 = get_fourier_matrix(size)\n",
        "\n",
        "if(check_if_unitary(fourier_matrix_size_10)):\n",
        "  print(\"The matrix of size\", size, \"is unitary\")\n",
        "else:\n",
        "  printf(\"The matrix of size\", size, \"is not unitary\")\n",
        "\n",
        "\n"
      ],
      "execution_count": 3,
      "outputs": [
        {
          "output_type": "stream",
          "text": [
            "The matrix of size 4 is unitary\n",
            "The matrix of size 10 is unitary\n"
          ],
          "name": "stdout"
        }
      ]
    },
    {
      "cell_type": "markdown",
      "metadata": {
        "id": "8p8OpYseZmse",
        "colab_type": "text"
      },
      "source": [
        "**Cyclic shift matrix**"
      ]
    },
    {
      "cell_type": "markdown",
      "metadata": {
        "id": "EdU_Ai9JZ4tu",
        "colab_type": "text"
      },
      "source": [
        "The cyclic shift matrix is the matrix $P_N=(p_{k,\\ell}\\in\\mathbb{C}^{N\\times N})$\n",
        " whose entries are given by\n",
        "\n",
        "$$ p_{k,\\ell} = 1 \\mbox{ if } \\ell = k + 1 \\pmod{N} $$\n",
        "\n",
        "$$ p_{k,\\ell} = 0 \\mbox{ if } \\ell \\neq k + 1 \\pmod{N} $$"
      ]
    },
    {
      "cell_type": "markdown",
      "metadata": {
        "id": "Pj_wzC70avuv",
        "colab_type": "text"
      },
      "source": [
        "Using numpy, implement the function ```get_cyclic_shift_matrix``` that create the cyclic shift matrix of size $N$.\n",
        "\n",
        "Compute the eigenvalues of $P_N$.\n",
        "\n",
        "To show that your code is correct, you should verify the following properties:\n",
        "\n",
        "- the cyclic shift matrix is unitary\n",
        "- the $N$th power of the cyclic shift matrix is the identity matrix\n",
        "- the eigenvalues of the cyclic shift matrix are $N$th roots of unity\n",
        "- the cyclic shift matrix is diagonalized by the Fourier matrix, that is, $F_N^\\dagger P_N F_N$ is diagonal."
      ]
    },
    {
      "cell_type": "code",
      "metadata": {
        "id": "W_qnTZ0HIk-_",
        "colab_type": "code",
        "colab": {
          "base_uri": "https://localhost:8080/",
          "height": 482
        },
        "outputId": "4f0bc2f8-5821-44e5-cb1e-394ffcbaae00"
      },
      "source": [
        "from numpy import linalg as la\n",
        "\n",
        "def get_cyclic_shift_matrix(N):\n",
        "  p = np.empty((N,N), dtype=int)\n",
        "  for i in range(N):\n",
        "    for j in range(N):\n",
        "      if(j == ((i+1)%N)):\n",
        "        p[i][j] = 1\n",
        "      else:\n",
        "        p[i][j] = 0\n",
        "        \n",
        "  return np.asarray(p)\n",
        "\n",
        "cyclic_shift_size_4 = get_cyclic_shift_matrix(4)\n",
        "print(cyclic_shift_size_4)\n",
        "verify(cyclic_shift_size_4, 4)\n",
        "\n",
        "def verify(shift_matrix, N):\n",
        "  if(check_if_unitary(shift_matrix)):\n",
        "    print(\"Cyclic shift matrix of size\", N, \"is unitary!\")\n",
        "  else:\n",
        "    print(\"Cyclic shift matrix of size\", N, \"is not unitary!\")\n",
        "\n",
        "  if(np.allclose(np.eye(len(cyclic_shift_size_4)),\n",
        "                la.matrix_power(cyclic_shift_size_4, 4))):\n",
        "    print(\"When raised to the\", N,\"th power\", \"the cyclic shift matrix of size\",\n",
        "          N, \"is the identity matrix\")\n",
        "  else:\n",
        "    print(\"When raised to the\", N,\"th power\", \"the cyclic shift matrix of size\",\n",
        "          N, \"is not the identity matrix\")\n",
        "\n",
        "  if(np.allclose((la.eig(shift_matrix[0])**N), 1)):\n",
        "    print(\"The eigenvalues of the cyclic shift matrix of size\", N, \"are the\",\n",
        "          N,\"th roots of unity\")\n",
        "\n",
        "  \n"
      ],
      "execution_count": 53,
      "outputs": [
        {
          "output_type": "stream",
          "text": [
            "[[0 1 0 0]\n",
            " [0 0 1 0]\n",
            " [0 0 0 1]\n",
            " [1 0 0 0]]\n",
            "Cyclic shift matrix of size 4 is unitary!\n",
            "When raised to the 4 th power the cyclic shift matrix of size 4 is the identity matrix\n"
          ],
          "name": "stdout"
        },
        {
          "output_type": "error",
          "ename": "NameError",
          "evalue": "ignored",
          "traceback": [
            "\u001b[0;31m---------------------------------------------------------------------------\u001b[0m",
            "\u001b[0;31mNameError\u001b[0m                                 Traceback (most recent call last)",
            "\u001b[0;32m<ipython-input-53-261b644fbbe1>\u001b[0m in \u001b[0;36m<module>\u001b[0;34m()\u001b[0m\n\u001b[1;32m     14\u001b[0m \u001b[0mcyclic_shift_size_4\u001b[0m \u001b[0;34m=\u001b[0m \u001b[0mget_cyclic_shift_matrix\u001b[0m\u001b[0;34m(\u001b[0m\u001b[0;36m4\u001b[0m\u001b[0;34m)\u001b[0m\u001b[0;34m\u001b[0m\u001b[0;34m\u001b[0m\u001b[0m\n\u001b[1;32m     15\u001b[0m \u001b[0mprint\u001b[0m\u001b[0;34m(\u001b[0m\u001b[0mcyclic_shift_size_4\u001b[0m\u001b[0;34m)\u001b[0m\u001b[0;34m\u001b[0m\u001b[0;34m\u001b[0m\u001b[0m\n\u001b[0;32m---> 16\u001b[0;31m \u001b[0mverify\u001b[0m\u001b[0;34m(\u001b[0m\u001b[0mcyclic_shift_size_4\u001b[0m\u001b[0;34m,\u001b[0m \u001b[0;36m4\u001b[0m\u001b[0;34m)\u001b[0m\u001b[0;34m\u001b[0m\u001b[0;34m\u001b[0m\u001b[0m\n\u001b[0m\u001b[1;32m     17\u001b[0m \u001b[0;34m\u001b[0m\u001b[0m\n\u001b[1;32m     18\u001b[0m \u001b[0;32mdef\u001b[0m \u001b[0mverify\u001b[0m\u001b[0;34m(\u001b[0m\u001b[0mshift_matrix\u001b[0m\u001b[0;34m,\u001b[0m \u001b[0mN\u001b[0m\u001b[0;34m)\u001b[0m\u001b[0;34m:\u001b[0m\u001b[0;34m\u001b[0m\u001b[0;34m\u001b[0m\u001b[0m\n",
            "\u001b[0;32m<ipython-input-46-530d3972cf6e>\u001b[0m in \u001b[0;36mverify\u001b[0;34m(shift_matrix, N)\u001b[0m\n\u001b[1;32m     30\u001b[0m           N, \"is not the identity matrix\")\n\u001b[1;32m     31\u001b[0m \u001b[0;34m\u001b[0m\u001b[0m\n\u001b[0;32m---> 32\u001b[0;31m   \u001b[0;32mif\u001b[0m\u001b[0;34m(\u001b[0m\u001b[0mallclose\u001b[0m\u001b[0;34m(\u001b[0m\u001b[0;34m(\u001b[0m\u001b[0mla\u001b[0m\u001b[0;34m.\u001b[0m\u001b[0meig\u001b[0m\u001b[0;34m(\u001b[0m\u001b[0mshift_matrix\u001b[0m\u001b[0;34m[\u001b[0m\u001b[0;36m0\u001b[0m\u001b[0;34m]\u001b[0m\u001b[0;34m)\u001b[0m\u001b[0;34m**\u001b[0m\u001b[0mN\u001b[0m\u001b[0;34m)\u001b[0m\u001b[0;34m,\u001b[0m \u001b[0;36m1\u001b[0m\u001b[0;34m)\u001b[0m\u001b[0;34m)\u001b[0m\u001b[0;34m:\u001b[0m\u001b[0;34m\u001b[0m\u001b[0;34m\u001b[0m\u001b[0m\n\u001b[0m\u001b[1;32m     33\u001b[0m     print(\"The eigenvalues of the cyclic shift matrix of size\", N, \"are the\",\n\u001b[1;32m     34\u001b[0m           N,\"th roots of unity\")\n",
            "\u001b[0;31mNameError\u001b[0m: name 'allclose' is not defined"
          ]
        }
      ]
    },
    {
      "cell_type": "markdown",
      "metadata": {
        "id": "nuAnEb1xCVfs",
        "colab_type": "text"
      },
      "source": [
        "### Problem 2"
      ]
    },
    {
      "cell_type": "markdown",
      "metadata": {
        "id": "H3bqptmVDKCQ",
        "colab_type": "text"
      },
      "source": [
        "Using Qiskit IBM Q Experience, implement the quantum phase estimation circuit with 3-bit precision.  \n",
        "\n",
        "This quantum circuit is explained on pages 110-113 (Inverse Fourier transform for 3 qubits) of the lecture slides.\n",
        "\n",
        "You can preprare the initial state using ```u3``` gates. See [u3 gates](https://qiskit.org/documentation/tutorials/fundamentals/5_summary_of_quantum_operations.html?highlight=arbitrary%20single%20qubit%20gate#u-gates)\n",
        "\n",
        "The controlled $R_2^\\dagger$ gates are controlled ```u3``` gates.  See [controlled u3 gate](https://qiskit.org/documentation/tutorials/fundamentals/5_summary_of_quantum_operations.html?highlight=arbitrary%20single%20qubit%20gate#Controlled-u3-rotation)."
      ]
    },
    {
      "cell_type": "code",
      "metadata": {
        "id": "xTscUUhrwXzp",
        "colab_type": "code",
        "colab": {}
      },
      "source": [
        "%matplotlib inline\n",
        "# Importing standard Qiskit libraries and configuring account\n",
        "from qiskit import QuantumCircuit, execute, Aer, IBMQ, ClassicalRegister, QuantumRegister, execute\n",
        "from qiskit.compiler import transpile, assemble\n",
        "from qiskit.quantum_info import state_fidelity\n",
        "from qiskit import BasicAer\n",
        "from qiskit.tools.jupyter import *\n",
        "from qiskit.visualization import *\n",
        "# Loading your IBM Q account(s)\n",
        "provider = IBMQ.load_account()\n",
        "\n",
        "import matplotlib.pyplot as plt\n",
        "%matplotlib inline\n",
        "import numpy as np\n",
        "from math import pi\n",
        "\n",
        "\n",
        "backend = BasicAer.get_backend('unitary_simulator')\n",
        "\n",
        "def prepare_init_state(circuit, theta):\n",
        "  circuit.x(3)\n",
        "\n",
        "\n",
        "# Inspired by the information in the qiskit textbook found here: https://qiskit.org/textbook/ch-algorithms/quantum-phase-estimation.html#2.-Example:-T-gate-\n",
        "q = QuantumRegister(3)\n",
        "qc = QuantumCircuit(q)\n",
        "qc.h(0)\n",
        "qc.cu3(pi/2, pi/2, pi/2, q[0], q[1])\n",
        "qc.h(1)\n",
        "qc.cu3(pi/2, pi/2, pi/2, q[0], q[2])\n",
        "qc.cu3(pi/2, pi/2, pi/2, q[1], q[2])\n",
        "qc.h(2)\n",
        "qc.draw()"
      ],
      "execution_count": 0,
      "outputs": []
    }
  ]
}